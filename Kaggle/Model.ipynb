{
 "cells": [
  {
   "cell_type": "code",
   "execution_count": 94,
   "id": "loose-impossible",
   "metadata": {},
   "outputs": [],
   "source": [
    "import numpy as np\n",
    "import pandas as pd\n",
    "import json\n",
    "import requests\n",
    "import re\n",
    "import os\n",
    "from datetime import datetime as dt\n",
    "from pandas.io.json import json_normalize\n",
    "import geocoder\n",
    "import matplotlib.pylab as plt\n",
    "import seaborn as sns\n",
    "import shapefile\n",
    "from scipy import stats\n",
    "import math\n",
    "import statistics\n",
    "from sklearn import preprocessing\n",
    "from sklearn.preprocessing import StandardScaler,MinMaxScaler\n",
    "from sklearn.model_selection import train_test_split\n",
    "from sklearn.linear_model import Lasso\n",
    "from sklearn.model_selection import GridSearchCV\n",
    "from sklearn.metrics import mean_absolute_error\n",
    "from sklearn.metrics import mean_squared_error\n",
    "from sklearn.metrics import r2_score\n",
    "from sklearn.preprocessing import normalize\n",
    "%matplotlib inline\n",
    "\n",
    "# Split datasets into train and test datasets\n",
    "\n",
    "\n",
    "df_main_onehot = pd.read_csv('df_main_onehot.csv')\n",
    "# df_merged_venue = pd.read_csv('df_merged_venue.csv')\n",
    "# df_merged_venue['storey_avg'] = df_merged_venue['storey_range'].apply(lambda x: int(x[-2:]))\n"
   ]
  },
  {
   "cell_type": "code",
   "execution_count": 116,
   "id": "thermal-appearance",
   "metadata": {},
   "outputs": [],
   "source": [
    "df_main_onehot = pd.read_csv('df_main_onehot.csv')\n",
    "df_main_onehot = df_main_onehot.drop(columns=['Unnamed: 0','flat_type','month', 'street_name',\n",
    "       'flat_model', 'planning_area','distance_to_nearest_primary_sch','distance_to_nearest_second_sch','distance_to_nearest_hawker'])"
   ]
  },
  {
   "cell_type": "code",
   "execution_count": 96,
   "id": "smooth-thumb",
   "metadata": {},
   "outputs": [
    {
     "data": {
      "text/plain": [
       "Index(['floor_area_sqm', 'remaining_lease', 'price_sqm',\n",
       "       'distance_to_nearest_stations', 'distance_to_nearest_commercial',\n",
       "       'distance_to_nearest_malls', 'toilet_number', 'room_number',\n",
       "       'flat_type_1 room', 'flat_type_2 room', 'flat_type_3 room',\n",
       "       'flat_type_4 room', 'flat_type_5 room', 'flat_type_executive',\n",
       "       'flat_type_multi generation', 'flat_model_2 room',\n",
       "       'flat_model_adjoined flat', 'flat_model_apartment', 'flat_model_dbss',\n",
       "       'flat_model_improved', 'flat_model_improved maisonette',\n",
       "       'flat_model_maisonette', 'flat_model_model a',\n",
       "       'flat_model_model a maisonette', 'flat_model_model a2',\n",
       "       'flat_model_multi generation', 'flat_model_new generation',\n",
       "       'flat_model_premium apartment', 'flat_model_premium apartment loft',\n",
       "       'flat_model_premium maisonette', 'flat_model_simplified',\n",
       "       'flat_model_standard', 'flat_model_terrace', 'flat_model_type s1',\n",
       "       'flat_model_type s2', 'town_ang mo kio', 'town_bedok', 'town_bishan',\n",
       "       'town_bukit batok', 'town_bukit merah', 'town_bukit panjang',\n",
       "       'town_bukit timah', 'town_central area', 'town_choa chu kang',\n",
       "       'town_clementi', 'town_geylang', 'town_hougang', 'town_jurong east',\n",
       "       'town_jurong west', 'town_kallang/whampoa', 'town_marine parade',\n",
       "       'town_pasir ris', 'town_punggol', 'town_queenstown', 'town_sembawang',\n",
       "       'town_sengkang', 'town_serangoon', 'town_tampines', 'town_toa payoh',\n",
       "       'town_woodlands', 'town_yishun', 'storey_avg', 'storey < 10',\n",
       "       'storey < 15', 'storey < 20', 'storey < 30', 'story > 30', 'year'],\n",
       "      dtype='object')"
      ]
     },
     "execution_count": 96,
     "metadata": {},
     "output_type": "execute_result"
    }
   ],
   "source": [
    "df_main_onehot.columns"
   ]
  },
  {
   "cell_type": "markdown",
   "id": "inner-forward",
   "metadata": {},
   "source": [
    "### df_main_onehot + lasso "
   ]
  },
  {
   "cell_type": "code",
   "execution_count": null,
   "id": "coordinated-mortgage",
   "metadata": {},
   "outputs": [],
   "source": [
    "y = df_main_onehot['price_sqm']\n",
    "X = df_main_onehot.drop(columns = ['price_sqm'])\n",
    "\n",
    "X_train, X_test, y_train, y_test = train_test_split(X, y, test_size =0.25, random_state = 888)\n",
    "\n",
    "# scaler = MinMaxScaler().fit(X_train)\n",
    "scaler = StandardScaler().fit(X_train)\n",
    "X_trains = scaler.transform(X_train)\n",
    "X_tests = scaler.transform(X_test)\n",
    "\n",
    "lasso = Lasso()\n",
    "param = {'alpha':[0.001, 0.01, 0.1, 0.2, 0.5, 0.7, 1, 1.5]}\n",
    "\n",
    "lasso_cv = GridSearchCV(lasso,\n",
    "                       param,\n",
    "                       scoring = 'neg_mean_squared_error',\n",
    "                       cv = 5,\n",
    "                       verbose = 0)\n",
    "lasso_cv.fit(X_trains,y_train)\n",
    "\n",
    "best_alpha = pd.Series(lasso_cv.best_params_)[0]\n",
    "\n",
    "print(lasso_cv.best_score_)\n",
    "print(lasso_cv.best_params_)\n"
   ]
  },
  {
   "cell_type": "code",
   "execution_count": 104,
   "id": "level-yesterday",
   "metadata": {},
   "outputs": [
    {
     "name": "stderr",
     "output_type": "stream",
     "text": [
      "/Users/cj/miniconda3/lib/python3.8/site-packages/sklearn/linear_model/_coordinate_descent.py:530: ConvergenceWarning: Objective did not converge. You might want to increase the number of iterations. Duality gap: 4097999553.949692, tolerance: 41227085.091925636\n",
      "  model = cd_fast.enet_coordinate_descent(\n"
     ]
    }
   ],
   "source": [
    "lasso = Lasso(alpha = best_alpha, \n",
    "              random_state = 888)\n",
    "lasso = lasso.fit(X_trains, y_train)"
   ]
  },
  {
   "cell_type": "code",
   "execution_count": 113,
   "id": "funded-purse",
   "metadata": {},
   "outputs": [
    {
     "data": {
      "text/plain": [
       "Index(['floor_area_sqm', 'remaining_lease', 'distance_to_nearest_stations',\n",
       "       'distance_to_nearest_commercial', 'distance_to_nearest_malls',\n",
       "       'toilet_number', 'room_number', 'flat_type_1 room', 'flat_type_2 room',\n",
       "       'flat_type_3 room', 'flat_type_4 room', 'flat_type_5 room',\n",
       "       'flat_type_executive', 'flat_type_multi generation',\n",
       "       'flat_model_2 room', 'flat_model_adjoined flat', 'flat_model_apartment',\n",
       "       'flat_model_dbss', 'flat_model_improved',\n",
       "       'flat_model_improved maisonette', 'flat_model_maisonette',\n",
       "       'flat_model_model a', 'flat_model_model a maisonette',\n",
       "       'flat_model_model a2', 'flat_model_multi generation',\n",
       "       'flat_model_new generation', 'flat_model_premium apartment',\n",
       "       'flat_model_premium apartment loft', 'flat_model_premium maisonette',\n",
       "       'flat_model_simplified', 'flat_model_standard', 'flat_model_terrace',\n",
       "       'flat_model_type s1', 'flat_model_type s2', 'town_ang mo kio',\n",
       "       'town_bedok', 'town_bishan', 'town_bukit batok', 'town_bukit merah',\n",
       "       'town_bukit panjang', 'town_bukit timah', 'town_central area',\n",
       "       'town_choa chu kang', 'town_clementi', 'town_geylang', 'town_hougang',\n",
       "       'town_jurong east', 'town_jurong west', 'town_kallang/whampoa',\n",
       "       'town_marine parade', 'town_pasir ris', 'town_punggol',\n",
       "       'town_queenstown', 'town_sembawang', 'town_sengkang', 'town_serangoon',\n",
       "       'town_tampines', 'town_toa payoh', 'town_woodlands', 'town_yishun',\n",
       "       'storey_avg', 'storey < 10', 'storey < 15', 'storey < 20',\n",
       "       'storey < 30', 'story > 30', 'year'],\n",
       "      dtype='object')"
      ]
     },
     "execution_count": 113,
     "metadata": {},
     "output_type": "execute_result"
    }
   ],
   "source": [
    "X.columns"
   ]
  },
  {
   "cell_type": "code",
   "execution_count": 112,
   "id": "inappropriate-zoning",
   "metadata": {},
   "outputs": [
    {
     "data": {
      "text/plain": [
       "array([-2.86290512e+02,  2.94421221e+02, -1.28405961e+02,  1.19835490e+01,\n",
       "       -6.42285847e+01,  4.27425851e+01,  1.39837178e+02,  9.18279350e+00,\n",
       "        1.64120374e+01, -9.66352603e+01, -7.73580573e+01, -2.09897985e+01,\n",
       "        1.38849661e+02,  8.81997847e+00,  2.22957848e+00, -1.36719384e-02,\n",
       "        3.33440828e+01,  6.45755473e+01, -2.03966335e+01,  6.93441952e+00,\n",
       "        3.77648000e+01,  1.31790406e+01,  1.52572413e+01, -6.92260875e+00,\n",
       "        4.47225744e-01, -5.06151403e+00,  8.43032513e+00,  8.91587303e+00,\n",
       "        7.50500433e+00, -1.85681490e+01, -1.16680596e+01,  6.84698895e+01,\n",
       "        4.14407294e+01,  2.79091560e+01,  9.68617217e+01,  7.57552488e+01,\n",
       "        1.09831102e+02, -1.99879684e+01,  1.95869136e+02, -8.58661955e+01,\n",
       "        6.23563998e+01,  8.51621343e+01, -1.11083070e+02,  9.39974832e+01,\n",
       "        1.01735184e+02, -2.47207468e+00,  9.46493092e+00, -7.49926993e+01,\n",
       "        1.06502620e+02,  1.57455157e+02,  1.55961122e+01, -6.54814256e+01,\n",
       "        1.68149348e+02, -1.12208209e+02, -7.56866002e+01,  6.44530265e+01,\n",
       "        3.81147478e+01,  1.24386495e+02, -1.34063948e+02, -5.96197318e+01,\n",
       "        1.17882523e+02,  2.87974948e+01,  1.25525721e+01,  2.00107532e+01,\n",
       "        6.86404224e+01,  4.74345424e+01,  7.26646533e+02])"
      ]
     },
     "execution_count": 112,
     "metadata": {},
     "output_type": "execute_result"
    }
   ],
   "source": [
    "lasso.coef_"
   ]
  },
  {
   "cell_type": "code",
   "execution_count": 106,
   "id": "random-honolulu",
   "metadata": {},
   "outputs": [
    {
     "name": "stdout",
     "output_type": "stream",
     "text": [
      "-------------- Lasso Regression Model on training set------------\n",
      "MAE: 450.16826939494763\n",
      "RMSE: 571.7500061993912\n",
      "R^2 Score: 0.7432530876271427\n"
     ]
    }
   ],
   "source": [
    "yhat = lasso.predict(X_trains)\n",
    "MAE_lasso = round(mean_absolute_error(y_train, yhat),2)\n",
    "RMSE_lasso = round(math.sqrt(mean_squared_error(y_train, yhat)),2)\n",
    "R2_lasso = round(r2_score(y_train, yhat),2)\n",
    "\n",
    "\n",
    "print('-------------- Lasso Regression Model on training set------------')\n",
    "print('MAE: ' + str(mean_absolute_error(y_train, yhat)))\n",
    "print('RMSE: '+ str(math.sqrt(mean_squared_error(y_train, yhat))))\n",
    "print('R^2 Score: ' + str(r2_score(y_train, yhat)))"
   ]
  },
  {
   "cell_type": "code",
   "execution_count": 107,
   "id": "signal-better",
   "metadata": {},
   "outputs": [
    {
     "name": "stdout",
     "output_type": "stream",
     "text": [
      "-------------- Lasso Regression Model ------------\n",
      "MAE: 451.16153269510903\n",
      "RMSE: 573.2498000425496\n",
      "R^2 Score: 0.7414491437856264\n"
     ]
    }
   ],
   "source": [
    "yhat = lasso.predict(X_tests)\n",
    "MAE_lasso = round(mean_absolute_error(y_test, yhat),2)\n",
    "RMSE_lasso = round(math.sqrt(mean_squared_error(y_test, yhat)),2)\n",
    "R2_lasso = round(r2_score(y_test, yhat),2)\n",
    "\n",
    "\n",
    "print('-------------- Lasso Regression Model ------------')\n",
    "print('MAE: ' + str(mean_absolute_error(y_test, yhat)))\n",
    "print('RMSE: '+ str(math.sqrt(mean_squared_error(y_test, yhat))))\n",
    "print('R^2 Score: ' + str(r2_score(y_test, yhat)))"
   ]
  },
  {
   "cell_type": "markdown",
   "id": "further-dietary",
   "metadata": {},
   "source": [
    "### df_main_onehot + xgboost "
   ]
  },
  {
   "cell_type": "code",
   "execution_count": 122,
   "id": "sunset-kenya",
   "metadata": {},
   "outputs": [],
   "source": [
    "df_main_onehot = pd.read_csv('df_main_onehot.csv')\n",
    "df_main_onehot = df_main_onehot.drop(columns=['Unnamed: 0','flat_type', 'street_name',\n",
    "       'flat_model', 'planning_area'])\n",
    "df_main_onehot['month'] = df_main_onehot['month'].apply(lambda x: int(x[-2:]))\n",
    "y = df_main_onehot['price_sqm']\n",
    "X = df_main_onehot.drop(columns = ['price_sqm'])\n",
    "\n",
    "X_train, X_test, y_train, y_test = train_test_split(X, y, test_size =0.25, random_state = 888)\n",
    "\n",
    "# scaler = MinMaxScaler().fit(X_train)\n",
    "scaler = StandardScaler().fit(X_train)\n",
    "X_trains = scaler.transform(X_train)\n",
    "X_tests = scaler.transform(X_test)"
   ]
  },
  {
   "cell_type": "code",
   "execution_count": 123,
   "id": "developing-designation",
   "metadata": {},
   "outputs": [
    {
     "name": "stdout",
     "output_type": "stream",
     "text": [
      "[03:35:19] WARNING: /Users/cj/xgboost/python-package/build/temp.macosx-10.9-x86_64-3.8/xgboost/src/learner.cc:548: \n",
      "Parameters: { obj } might not be used.\n",
      "\n",
      "  This may not be accurate due to some parameters are only used in language bindings but\n",
      "  passed down to XGBoost core.  Or some parameters are not used but slip through this\n",
      "  verification. Please open an issue if you find above cases.\n",
      "\n",
      "\n",
      "[03:35:22] WARNING: /Users/cj/xgboost/python-package/build/temp.macosx-10.9-x86_64-3.8/xgboost/src/learner.cc:548: \n",
      "Parameters: { obj } might not be used.\n",
      "\n",
      "  This may not be accurate due to some parameters are only used in language bindings but\n",
      "  passed down to XGBoost core.  Or some parameters are not used but slip through this\n",
      "  verification. Please open an issue if you find above cases.\n",
      "\n",
      "\n",
      "[03:35:24] WARNING: /Users/cj/xgboost/python-package/build/temp.macosx-10.9-x86_64-3.8/xgboost/src/learner.cc:548: \n",
      "Parameters: { obj } might not be used.\n",
      "\n",
      "  This may not be accurate due to some parameters are only used in language bindings but\n",
      "  passed down to XGBoost core.  Or some parameters are not used but slip through this\n",
      "  verification. Please open an issue if you find above cases.\n",
      "\n",
      "\n",
      "[03:35:27] WARNING: /Users/cj/xgboost/python-package/build/temp.macosx-10.9-x86_64-3.8/xgboost/src/learner.cc:548: \n",
      "Parameters: { obj } might not be used.\n",
      "\n",
      "  This may not be accurate due to some parameters are only used in language bindings but\n",
      "  passed down to XGBoost core.  Or some parameters are not used but slip through this\n",
      "  verification. Please open an issue if you find above cases.\n",
      "\n",
      "\n",
      "[03:35:29] WARNING: /Users/cj/xgboost/python-package/build/temp.macosx-10.9-x86_64-3.8/xgboost/src/learner.cc:548: \n",
      "Parameters: { obj } might not be used.\n",
      "\n",
      "  This may not be accurate due to some parameters are only used in language bindings but\n",
      "  passed down to XGBoost core.  Or some parameters are not used but slip through this\n",
      "  verification. Please open an issue if you find above cases.\n",
      "\n",
      "\n",
      "[04:22:59] WARNING: /Users/cj/xgboost/python-package/build/temp.macosx-10.9-x86_64-3.8/xgboost/src/learner.cc:548: \n",
      "Parameters: { obj } might not be used.\n",
      "\n",
      "  This may not be accurate due to some parameters are only used in language bindings but\n",
      "  passed down to XGBoost core.  Or some parameters are not used but slip through this\n",
      "  verification. Please open an issue if you find above cases.\n",
      "\n",
      "\n",
      "-------------- XGB Model: Baseline Parameters ------------\n",
      "MAE: 130.98628124295627\n",
      "RMSE: 180.7177328334518\n",
      "R^2 Score: 0.974304344822362\n"
     ]
    }
   ],
   "source": [
    "import xgboost as xgb\n",
    "from sklearn.model_selection import RandomizedSearchCV, RepeatedKFold\n",
    "\n",
    "# Convert datasets to XGBDMatrix\n",
    "dtrain = xgb.DMatrix(X_trains, label = y_train)\n",
    "dtest = xgb.DMatrix(X_tests)\n",
    "\n",
    "# Define model parameters\n",
    "xgb_params = {'obj':'reg:squarederror',\n",
    "              'eval_metric':'rmse',\n",
    "              'max_depth':6, \n",
    "              'eta':0.5,\n",
    "              'min_child_weight':1,\n",
    "              'subsample':1,\n",
    "              'colsample_bytree':1}\n",
    "\n",
    "# Find model parameters 'num_boost_round' using cv\n",
    "cv_res = xgb.cv(xgb_params, \n",
    "                dtrain, \n",
    "                num_boost_round=500, \n",
    "                nfold=5, \n",
    "                seed=2020, \n",
    "                stratified=False,\n",
    "                early_stopping_rounds=25, \n",
    "                verbose_eval=10, \n",
    "                show_stdv=True)\n",
    "\n",
    "# Get best num_boost_round\n",
    "nrounds = cv_res[cv_res['test-rmse-mean'] == cv_res['test-rmse-mean'].min()].index[0]\n",
    "cv_res[cv_res['test-rmse-mean'] == cv_res['test-rmse-mean'].min()]\n",
    "\n",
    "xgb_def = xgb.train(params = xgb_params,\n",
    "                   num_boost_round = nrounds,\n",
    "                   dtrain = dtrain)\n",
    "\n",
    "yhat = xgb_def.predict(dtest)\n",
    "print('-------------- XGB Model: Baseline Parameters ------------')\n",
    "print('MAE: ' + str(mean_absolute_error(y_test, yhat)))\n",
    "print('RMSE: '+ str(math.sqrt(mean_squared_error(y_test, yhat))))\n",
    "print('R^2 Score: ' + str(r2_score(y_test, yhat)))"
   ]
  },
  {
   "cell_type": "code",
   "execution_count": null,
   "id": "wrong-spank",
   "metadata": {},
   "outputs": [],
   "source": []
  }
 ],
 "metadata": {
  "kernelspec": {
   "display_name": "Python 3",
   "language": "python",
   "name": "python3"
  },
  "language_info": {
   "codemirror_mode": {
    "name": "ipython",
    "version": 3
   },
   "file_extension": ".py",
   "mimetype": "text/x-python",
   "name": "python",
   "nbconvert_exporter": "python",
   "pygments_lexer": "ipython3",
   "version": "3.8.5"
  }
 },
 "nbformat": 4,
 "nbformat_minor": 5
}
