{
 "cells": [
  {
   "cell_type": "code",
   "execution_count": 4,
   "id": "quick-tackle",
   "metadata": {},
   "outputs": [],
   "source": [
    "import numpy as np\n",
    "import pandas as pd\n",
    "import json\n",
    "import requests\n",
    "import re\n",
    "import os\n",
    "from datetime import datetime as dt\n",
    "from pandas.io.json import json_normalize\n",
    "import geocoder\n",
    "import matplotlib.pylab as plt\n",
    "import seaborn as sns\n",
    "import shapefile\n",
    "from scipy import stats\n",
    "import math\n",
    "import statistics\n",
    "from sklearn import preprocessing\n",
    "from sklearn.preprocessing import StandardScaler\n",
    "from sklearn.model_selection import train_test_split\n",
    "from sklearn.linear_model import Lasso\n",
    "from sklearn.model_selection import GridSearchCV\n",
    "from sklearn.metrics import mean_absolute_error\n",
    "from sklearn.metrics import mean_squared_error\n",
    "from sklearn.metrics import r2_score\n",
    "from sklearn.preprocessing import normalize\n",
    "\n",
    "\n",
    "# Split datasets into train and test datasets\n",
    "%matplotlib inline\n",
    "\n",
    "df_final = pd.read_csv('dat_final.csv')\n",
    "y = df_final['price_sqm']\n",
    "X = df_final.drop(['price_sqm'], axis = 1)\n",
    "\n",
    "X_train, X_test, y_train, y_test = train_test_split(X, y, test_size =0.25, random_state = 2020)"
   ]
  },
  {
   "cell_type": "markdown",
   "id": "bored-colorado",
   "metadata": {},
   "source": [
    "#### Scale the data"
   ]
  },
  {
   "cell_type": "code",
   "execution_count": 5,
   "id": "native-distribution",
   "metadata": {},
   "outputs": [],
   "source": [
    "scaler = StandardScaler().fit(X_train)\n",
    "X_trains = scaler.transform(X_train)\n",
    "X_tests = scaler.transform(X_test)"
   ]
  },
  {
   "cell_type": "markdown",
   "id": "rotary-dryer",
   "metadata": {},
   "source": [
    "#### Lasso"
   ]
  },
  {
   "cell_type": "code",
   "execution_count": 7,
   "id": "economic-destiny",
   "metadata": {},
   "outputs": [],
   "source": [
    "lasso = Lasso()\n",
    "param = {'alpha':[0.001, 0.01, 0.1, 0.2, 0.5, 0.7, 1, 1.5, 2]}\n",
    "\n",
    "lasso_cv = GridSearchCV(lasso,\n",
    "                       param,\n",
    "                       scoring = 'neg_mean_squared_error',\n",
    "                       cv = 5,\n",
    "                       verbose = 0)"
   ]
  },
  {
   "cell_type": "code",
   "execution_count": 8,
   "id": "mobile-reviewer",
   "metadata": {},
   "outputs": [
    {
     "name": "stderr",
     "output_type": "stream",
     "text": [
      "/Users/cj/miniconda3/lib/python3.8/site-packages/sklearn/linear_model/_coordinate_descent.py:530: ConvergenceWarning: Objective did not converge. You might want to increase the number of iterations. Duality gap: 59312375804.98064, tolerance: 83496832.6994322\n",
      "  model = cd_fast.enet_coordinate_descent(\n",
      "/Users/cj/miniconda3/lib/python3.8/site-packages/sklearn/linear_model/_coordinate_descent.py:530: ConvergenceWarning: Objective did not converge. You might want to increase the number of iterations. Duality gap: 64388995714.5348, tolerance: 83674583.44662924\n",
      "  model = cd_fast.enet_coordinate_descent(\n",
      "/Users/cj/miniconda3/lib/python3.8/site-packages/sklearn/linear_model/_coordinate_descent.py:530: ConvergenceWarning: Objective did not converge. You might want to increase the number of iterations. Duality gap: 76786671020.4771, tolerance: 83547214.78608872\n",
      "  model = cd_fast.enet_coordinate_descent(\n",
      "/Users/cj/miniconda3/lib/python3.8/site-packages/sklearn/linear_model/_coordinate_descent.py:530: ConvergenceWarning: Objective did not converge. You might want to increase the number of iterations. Duality gap: 73550242717.51657, tolerance: 83432195.99228469\n",
      "  model = cd_fast.enet_coordinate_descent(\n",
      "/Users/cj/miniconda3/lib/python3.8/site-packages/sklearn/linear_model/_coordinate_descent.py:530: ConvergenceWarning: Objective did not converge. You might want to increase the number of iterations. Duality gap: 86433189582.28595, tolerance: 83587643.38217519\n",
      "  model = cd_fast.enet_coordinate_descent(\n",
      "/Users/cj/miniconda3/lib/python3.8/site-packages/sklearn/linear_model/_coordinate_descent.py:530: ConvergenceWarning: Objective did not converge. You might want to increase the number of iterations. Duality gap: 7386045411.755676, tolerance: 83496832.6994322\n",
      "  model = cd_fast.enet_coordinate_descent(\n",
      "/Users/cj/miniconda3/lib/python3.8/site-packages/sklearn/linear_model/_coordinate_descent.py:530: ConvergenceWarning: Objective did not converge. You might want to increase the number of iterations. Duality gap: 7341795181.111389, tolerance: 83674583.44662924\n",
      "  model = cd_fast.enet_coordinate_descent(\n",
      "/Users/cj/miniconda3/lib/python3.8/site-packages/sklearn/linear_model/_coordinate_descent.py:530: ConvergenceWarning: Objective did not converge. You might want to increase the number of iterations. Duality gap: 7260520005.644043, tolerance: 83547214.78608872\n",
      "  model = cd_fast.enet_coordinate_descent(\n",
      "/Users/cj/miniconda3/lib/python3.8/site-packages/sklearn/linear_model/_coordinate_descent.py:530: ConvergenceWarning: Objective did not converge. You might want to increase the number of iterations. Duality gap: 7360060410.705078, tolerance: 83432195.99228469\n",
      "  model = cd_fast.enet_coordinate_descent(\n",
      "/Users/cj/miniconda3/lib/python3.8/site-packages/sklearn/linear_model/_coordinate_descent.py:530: ConvergenceWarning: Objective did not converge. You might want to increase the number of iterations. Duality gap: 7319915363.94165, tolerance: 83587643.38217519\n",
      "  model = cd_fast.enet_coordinate_descent(\n",
      "/Users/cj/miniconda3/lib/python3.8/site-packages/sklearn/linear_model/_coordinate_descent.py:530: ConvergenceWarning: Objective did not converge. You might want to increase the number of iterations. Duality gap: 189526558.42089844, tolerance: 83496832.6994322\n",
      "  model = cd_fast.enet_coordinate_descent(\n",
      "/Users/cj/miniconda3/lib/python3.8/site-packages/sklearn/linear_model/_coordinate_descent.py:530: ConvergenceWarning: Objective did not converge. You might want to increase the number of iterations. Duality gap: 190120948.13223267, tolerance: 83674583.44662924\n",
      "  model = cd_fast.enet_coordinate_descent(\n",
      "/Users/cj/miniconda3/lib/python3.8/site-packages/sklearn/linear_model/_coordinate_descent.py:530: ConvergenceWarning: Objective did not converge. You might want to increase the number of iterations. Duality gap: 193115836.13638306, tolerance: 83547214.78608872\n",
      "  model = cd_fast.enet_coordinate_descent(\n",
      "/Users/cj/miniconda3/lib/python3.8/site-packages/sklearn/linear_model/_coordinate_descent.py:530: ConvergenceWarning: Objective did not converge. You might want to increase the number of iterations. Duality gap: 190551517.48483276, tolerance: 83432195.99228469\n",
      "  model = cd_fast.enet_coordinate_descent(\n",
      "/Users/cj/miniconda3/lib/python3.8/site-packages/sklearn/linear_model/_coordinate_descent.py:530: ConvergenceWarning: Objective did not converge. You might want to increase the number of iterations. Duality gap: 188661579.92959595, tolerance: 83587643.38217519\n",
      "  model = cd_fast.enet_coordinate_descent(\n",
      "/Users/cj/miniconda3/lib/python3.8/site-packages/sklearn/linear_model/_coordinate_descent.py:530: ConvergenceWarning: Objective did not converge. You might want to increase the number of iterations. Duality gap: 201957351.29986572, tolerance: 83496832.6994322\n",
      "  model = cd_fast.enet_coordinate_descent(\n",
      "/Users/cj/miniconda3/lib/python3.8/site-packages/sklearn/linear_model/_coordinate_descent.py:530: ConvergenceWarning: Objective did not converge. You might want to increase the number of iterations. Duality gap: 202325908.169281, tolerance: 83674583.44662924\n",
      "  model = cd_fast.enet_coordinate_descent(\n",
      "/Users/cj/miniconda3/lib/python3.8/site-packages/sklearn/linear_model/_coordinate_descent.py:530: ConvergenceWarning: Objective did not converge. You might want to increase the number of iterations. Duality gap: 202612412.99240112, tolerance: 83547214.78608872\n",
      "  model = cd_fast.enet_coordinate_descent(\n",
      "/Users/cj/miniconda3/lib/python3.8/site-packages/sklearn/linear_model/_coordinate_descent.py:530: ConvergenceWarning: Objective did not converge. You might want to increase the number of iterations. Duality gap: 202763287.81591797, tolerance: 83432195.99228469\n",
      "  model = cd_fast.enet_coordinate_descent(\n",
      "/Users/cj/miniconda3/lib/python3.8/site-packages/sklearn/linear_model/_coordinate_descent.py:530: ConvergenceWarning: Objective did not converge. You might want to increase the number of iterations. Duality gap: 200469622.18572998, tolerance: 83587643.38217519\n",
      "  model = cd_fast.enet_coordinate_descent(\n",
      "/Users/cj/miniconda3/lib/python3.8/site-packages/sklearn/linear_model/_coordinate_descent.py:530: ConvergenceWarning: Objective did not converge. You might want to increase the number of iterations. Duality gap: 92630819174.69376, tolerance: 104434646.31011233\n",
      "  model = cd_fast.enet_coordinate_descent(\n"
     ]
    },
    {
     "data": {
      "text/plain": [
       "GridSearchCV(cv=5, estimator=Lasso(),\n",
       "             param_grid={'alpha': [0.001, 0.01, 0.1, 0.2, 0.5, 0.7, 1, 1.5, 2]},\n",
       "             scoring='neg_mean_squared_error')"
      ]
     },
     "execution_count": 8,
     "metadata": {},
     "output_type": "execute_result"
    }
   ],
   "source": [
    "lasso_cv.fit(X_trains,y_train)"
   ]
  },
  {
   "cell_type": "code",
   "execution_count": 9,
   "id": "flexible-marine",
   "metadata": {},
   "outputs": [
    {
     "name": "stdout",
     "output_type": "stream",
     "text": [
      "-474217.8289708067\n",
      "{'alpha': 0.001}\n"
     ]
    }
   ],
   "source": [
    "best_alpha = pd.Series(lasso_cv.best_params_)[0]\n",
    "\n",
    "print(lasso_cv.best_score_)\n",
    "print(lasso_cv.best_params_)"
   ]
  },
  {
   "cell_type": "code",
   "execution_count": 10,
   "id": "initial-economics",
   "metadata": {},
   "outputs": [
    {
     "name": "stderr",
     "output_type": "stream",
     "text": [
      "/Users/cj/miniconda3/lib/python3.8/site-packages/sklearn/linear_model/_coordinate_descent.py:530: ConvergenceWarning: Objective did not converge. You might want to increase the number of iterations. Duality gap: 92630819174.69376, tolerance: 104434646.31011233\n",
      "  model = cd_fast.enet_coordinate_descent(\n"
     ]
    }
   ],
   "source": [
    "lasso = Lasso(alpha = best_alpha, \n",
    "              random_state = 2020)\n",
    "lasso = lasso.fit(X_trains, y_train)"
   ]
  },
  {
   "cell_type": "code",
   "execution_count": 12,
   "id": "circular-hotel",
   "metadata": {},
   "outputs": [
    {
     "name": "stdout",
     "output_type": "stream",
     "text": [
      "-------------- Lasso Regression Model on training set------------\n",
      "MAE: 545.0195911020379\n",
      "RMSE: 688.5416471044475\n",
      "R^2 Score: 0.7141393683346489\n"
     ]
    }
   ],
   "source": [
    "yhat = lasso.predict(X_trains)\n",
    "MAE_lasso = round(mean_absolute_error(y_train, yhat),2)\n",
    "RMSE_lasso = round(math.sqrt(mean_squared_error(y_train, yhat)),2)\n",
    "R2_lasso = round(r2_score(y_train, yhat),2)\n",
    "\n",
    "\n",
    "print('-------------- Lasso Regression Model on training set------------')\n",
    "print('MAE: ' + str(mean_absolute_error(y_train, yhat)))\n",
    "print('RMSE: '+ str(math.sqrt(mean_squared_error(y_train, yhat))))\n",
    "print('R^2 Score: ' + str(r2_score(y_train, yhat)))"
   ]
  },
  {
   "cell_type": "code",
   "execution_count": 13,
   "id": "weighted-flush",
   "metadata": {},
   "outputs": [
    {
     "name": "stdout",
     "output_type": "stream",
     "text": [
      "-------------- Lasso Regression Model ------------\n",
      "MAE: 546.5311695891602\n",
      "RMSE: 690.5956323677818\n",
      "R^2 Score: 0.7143367664217825\n"
     ]
    }
   ],
   "source": [
    "yhat = lasso.predict(X_tests)\n",
    "MAE_lasso = round(mean_absolute_error(y_test, yhat),2)\n",
    "RMSE_lasso = round(math.sqrt(mean_squared_error(y_test, yhat)),2)\n",
    "R2_lasso = round(r2_score(y_test, yhat),2)\n",
    "\n",
    "\n",
    "print('-------------- Lasso Regression Model ------------')\n",
    "print('MAE: ' + str(mean_absolute_error(y_test, yhat)))\n",
    "print('RMSE: '+ str(math.sqrt(mean_squared_error(y_test, yhat))))\n",
    "print('R^2 Score: ' + str(r2_score(y_test, yhat)))\n",
    "\n",
    "\n"
   ]
  },
  {
   "cell_type": "code",
   "execution_count": 6,
   "id": "sharp-nirvana",
   "metadata": {},
   "outputs": [],
   "source": [
    "import xgboost as xgb\n",
    "from sklearn.model_selection import RandomizedSearchCV, RepeatedKFold\n",
    "\n",
    "# Convert datasets to XGBDMatrix\n",
    "dtrain = xgb.DMatrix(X_trains, label = y_train)\n",
    "dtest = xgb.DMatrix(X_tests)\n"
   ]
  },
  {
   "cell_type": "code",
   "execution_count": 7,
   "id": "cordless-humanity",
   "metadata": {},
   "outputs": [
    {
     "name": "stdout",
     "output_type": "stream",
     "text": [
      "[21:54:23] WARNING: /Users/cj/xgboost/python-package/build/temp.macosx-10.9-x86_64-3.8/xgboost/src/learner.cc:548: \n",
      "Parameters: { obj } might not be used.\n",
      "\n",
      "  This may not be accurate due to some parameters are only used in language bindings but\n",
      "  passed down to XGBoost core.  Or some parameters are not used but slip through this\n",
      "  verification. Please open an issue if you find above cases.\n",
      "\n",
      "\n",
      "[21:54:27] WARNING: /Users/cj/xgboost/python-package/build/temp.macosx-10.9-x86_64-3.8/xgboost/src/learner.cc:548: \n",
      "Parameters: { obj } might not be used.\n",
      "\n",
      "  This may not be accurate due to some parameters are only used in language bindings but\n",
      "  passed down to XGBoost core.  Or some parameters are not used but slip through this\n",
      "  verification. Please open an issue if you find above cases.\n",
      "\n",
      "\n",
      "[21:54:31] WARNING: /Users/cj/xgboost/python-package/build/temp.macosx-10.9-x86_64-3.8/xgboost/src/learner.cc:548: \n",
      "Parameters: { obj } might not be used.\n",
      "\n",
      "  This may not be accurate due to some parameters are only used in language bindings but\n",
      "  passed down to XGBoost core.  Or some parameters are not used but slip through this\n",
      "  verification. Please open an issue if you find above cases.\n",
      "\n",
      "\n",
      "[21:54:36] WARNING: /Users/cj/xgboost/python-package/build/temp.macosx-10.9-x86_64-3.8/xgboost/src/learner.cc:548: \n",
      "Parameters: { obj } might not be used.\n",
      "\n",
      "  This may not be accurate due to some parameters are only used in language bindings but\n",
      "  passed down to XGBoost core.  Or some parameters are not used but slip through this\n",
      "  verification. Please open an issue if you find above cases.\n",
      "\n",
      "\n",
      "[21:54:41] WARNING: /Users/cj/xgboost/python-package/build/temp.macosx-10.9-x86_64-3.8/xgboost/src/learner.cc:548: \n",
      "Parameters: { obj } might not be used.\n",
      "\n",
      "  This may not be accurate due to some parameters are only used in language bindings but\n",
      "  passed down to XGBoost core.  Or some parameters are not used but slip through this\n",
      "  verification. Please open an issue if you find above cases.\n",
      "\n",
      "\n"
     ]
    },
    {
     "data": {
      "text/html": [
       "<div>\n",
       "<style scoped>\n",
       "    .dataframe tbody tr th:only-of-type {\n",
       "        vertical-align: middle;\n",
       "    }\n",
       "\n",
       "    .dataframe tbody tr th {\n",
       "        vertical-align: top;\n",
       "    }\n",
       "\n",
       "    .dataframe thead th {\n",
       "        text-align: right;\n",
       "    }\n",
       "</style>\n",
       "<table border=\"1\" class=\"dataframe\">\n",
       "  <thead>\n",
       "    <tr style=\"text-align: right;\">\n",
       "      <th></th>\n",
       "      <th>train-rmse-mean</th>\n",
       "      <th>train-rmse-std</th>\n",
       "      <th>test-rmse-mean</th>\n",
       "      <th>test-rmse-std</th>\n",
       "    </tr>\n",
       "  </thead>\n",
       "  <tbody>\n",
       "    <tr>\n",
       "      <th>499</th>\n",
       "      <td>169.625684</td>\n",
       "      <td>0.27956</td>\n",
       "      <td>192.434189</td>\n",
       "      <td>0.508204</td>\n",
       "    </tr>\n",
       "  </tbody>\n",
       "</table>\n",
       "</div>"
      ],
      "text/plain": [
       "     train-rmse-mean  train-rmse-std  test-rmse-mean  test-rmse-std\n",
       "499       169.625684         0.27956      192.434189       0.508204"
      ]
     },
     "execution_count": 7,
     "metadata": {},
     "output_type": "execute_result"
    }
   ],
   "source": [
    "# Define model parameters\n",
    "xgb_params = {'obj':'reg:squarederror',\n",
    "              'eval_metric':'rmse',\n",
    "              'max_depth':6, \n",
    "              'eta':0.5,\n",
    "              'min_child_weight':1,\n",
    "              'subsample':1,\n",
    "              'colsample_bytree':1}\n",
    "\n",
    "# Find model parameters 'num_boost_round' using cv\n",
    "cv_res = xgb.cv(xgb_params, \n",
    "                dtrain, \n",
    "                num_boost_round=500, \n",
    "                nfold=5, \n",
    "                seed=2020, \n",
    "                stratified=False,\n",
    "                early_stopping_rounds=25, \n",
    "                verbose_eval=10, \n",
    "                show_stdv=True)\n",
    "\n",
    "# Get best num_boost_round\n",
    "nrounds = cv_res[cv_res['test-rmse-mean'] == cv_res['test-rmse-mean'].min()].index[0]\n",
    "cv_res[cv_res['test-rmse-mean'] == cv_res['test-rmse-mean'].min()]"
   ]
  },
  {
   "cell_type": "code",
   "execution_count": 8,
   "id": "written-fundamentals",
   "metadata": {},
   "outputs": [
    {
     "name": "stdout",
     "output_type": "stream",
     "text": [
      "[00:12:32] WARNING: /Users/cj/xgboost/python-package/build/temp.macosx-10.9-x86_64-3.8/xgboost/src/learner.cc:548: \n",
      "Parameters: { obj } might not be used.\n",
      "\n",
      "  This may not be accurate due to some parameters are only used in language bindings but\n",
      "  passed down to XGBoost core.  Or some parameters are not used but slip through this\n",
      "  verification. Please open an issue if you find above cases.\n",
      "\n",
      "\n"
     ]
    }
   ],
   "source": [
    "xgb_def = xgb.train(params = xgb_params,\n",
    "                   num_boost_round = nrounds,\n",
    "                   dtrain = dtrain)"
   ]
  },
  {
   "cell_type": "code",
   "execution_count": 9,
   "id": "distant-robertson",
   "metadata": {},
   "outputs": [
    {
     "name": "stdout",
     "output_type": "stream",
     "text": [
      "-------------- XGB Model: Baseline Parameters ------------\n",
      "MAE: 137.90706216763843\n",
      "RMSE: 190.71381162168254\n",
      "R^2 Score: 0.9782143267633299\n"
     ]
    }
   ],
   "source": [
    "yhat = xgb_def.predict(dtest)\n",
    "print('-------------- XGB Model: Baseline Parameters ------------')\n",
    "print('MAE: ' + str(mean_absolute_error(y_test, yhat)))\n",
    "print('RMSE: '+ str(math.sqrt(mean_squared_error(y_test, yhat))))\n",
    "print('R^2 Score: ' + str(r2_score(y_test, yhat)))"
   ]
  },
  {
   "cell_type": "code",
   "execution_count": null,
   "id": "billion-local",
   "metadata": {},
   "outputs": [],
   "source": []
  }
 ],
 "metadata": {
  "kernelspec": {
   "display_name": "Python 3",
   "language": "python",
   "name": "python3"
  },
  "language_info": {
   "codemirror_mode": {
    "name": "ipython",
    "version": 3
   },
   "file_extension": ".py",
   "mimetype": "text/x-python",
   "name": "python",
   "nbconvert_exporter": "python",
   "pygments_lexer": "ipython3",
   "version": "3.8.5"
  }
 },
 "nbformat": 4,
 "nbformat_minor": 5
}
