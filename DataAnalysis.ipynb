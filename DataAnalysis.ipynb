{
 "cells": [
  {
   "cell_type": "code",
   "execution_count": null,
   "id": "planned-berlin",
   "metadata": {},
   "outputs": [],
   "source": [
    "import numpy as np\n",
    "import pandas as pd\n",
    "import json\n",
    "import requests\n",
    "import re\n",
    "import os\n",
    "from datetime import datetime as dt\n",
    "from pandas.io.json import json_normalize\n",
    "import geocoder\n",
    "import matplotlib.pylab as plt\n",
    "import seaborn as sns\n",
    "import shapefile\n",
    "from sklearn import preprocessing\n",
    "%matplotlib inline\n",
    "\n",
    "df_lat_long = pd.read_csv(\"df_lat_long.csv\")\n",
    "\n",
    "date_t = dt.today().strftime(\"%Y%m%d\")\n",
    "\n",
    "#https://foursquare.com/developers/apps 申请网站\n",
    "ID = 'I2E3FGJX0Z12Y0PHJ22W3WZBSUNDYWPJAQCFMSHJQBSAQJKG' //得申请\n",
    "Paw = 'K13KOCRW22OVDQJBMYNBD5B4EMWBPBLU5CCDX4UWVL3V3T03' //得申请\n",
    "\n",
    "def getNearbyPlaces(names, latitudes, longitudes, date_t, radius = 500, limit = 100,):\n",
    "    \n",
    "    venues_list=[]\n",
    "    for name, lat, lng in zip(names, latitudes, longitudes):\n",
    "        url = 'https://api.foursquare.com/v2/venues/explore?&client_id={}&client_secret={}&v={}&ll={},{}&radius={}&limit={}'.format(\n",
    "            ID, Paw, date_t, lat, lng, radius, limit)\n",
    "        \n",
    "        number_food = requests.get(url+'&section=food').json()['response']['totalResults']\n",
    "        number_drink = requests.get(url+'&section=drinks').json()['response']['totalResults'] + requests.get(url+'&section=coffee').json()['response']['totalResults']\n",
    "        \n",
    "        number_shop = requests.get(url+'&section=shops').json()['response']['totalResults']\n",
    "        number_art = requests.get(url+'&section=arts').json()['response']['totalResults']\n",
    "        number_trending = requests.get(url+'&section=trending').json()['response']['totalResults']\n",
    "        \n",
    "        url_price_low = 'https://api.foursquare.com/v2/venues/explore?&client_id={}&client_secret={}&v={}&ll={},{}&radius={}&limit={}&price=1'.format(\n",
    "            ID, Paw, date_t, lat, lng, radius, limit)\n",
    "        price_low = requests.get(url_price_low).json()['response']['totalResults']\n",
    "        \n",
    "        url_price_high = 'https://api.foursquare.com/v2/venues/explore?&client_id={}&client_secret={}&v={}&ll={},{}&radius={}&limit={}&price=3,4'.format(\n",
    "            ID, Paw, date_t, lat, lng, radius, limit)\n",
    "        price_high = requests.get(url_price_high).json()['response']['totalResults']\n",
    "        \n",
    "        venues_list.append([(name, lat, lng, \n",
    "            number_food,number_drink,number_shop,number_art,number_trending,price_low,price_high)])\n",
    "                            \n",
    "                            \n",
    "    selected_ven = pd.DataFrame([item for venue_list in venues_list for item in venue_list])\n",
    "    selected_ven.columns = ['street_name', 'Latitude', 'Longitude', 'Food', 'Drink', 'Shope', 'Art', 'Trending']\n",
    "    return(selected_ven)\n",
    "\n",
    "df_venues = getNearbyPlaces(names = df_lat_long['street_name'],\n",
    "                            latitudes = df_lat_long['Latitude'],\n",
    "                            longitudes = df_lat_long['Longitude'],\n",
    "                            date_t = dt.today().strftime(\"%Y%m%d\"))"
   ]
  },
  {
   "cell_type": "code",
   "execution_count": null,
   "id": "narrow-prompt",
   "metadata": {},
   "outputs": [],
   "source": [
    "df_venues.to_csv('dat_venues.csv')"
   ]
  }
 ],
 "metadata": {
  "kernelspec": {
   "display_name": "Python 3",
   "language": "python",
   "name": "python3"
  },
  "language_info": {
   "codemirror_mode": {
    "name": "ipython",
    "version": 3
   },
   "file_extension": ".py",
   "mimetype": "text/x-python",
   "name": "python",
   "nbconvert_exporter": "python",
   "pygments_lexer": "ipython3",
   "version": "3.8.5"
  }
 },
 "nbformat": 4,
 "nbformat_minor": 5
}
