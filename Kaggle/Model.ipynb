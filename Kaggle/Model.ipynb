{
 "cells": [
  {
   "cell_type": "code",
   "execution_count": 94,
   "id": "finished-commonwealth",
   "metadata": {},
   "outputs": [],
   "source": [
    "import numpy as np\n",
    "import pandas as pd\n",
    "import json\n",
    "import requests\n",
    "import re\n",
    "import os\n",
    "from datetime import datetime as dt\n",
    "from pandas.io.json import json_normalize\n",
    "import geocoder\n",
    "import matplotlib.pylab as plt\n",
    "import seaborn as sns\n",
    "import shapefile\n",
    "from scipy import stats\n",
    "import math\n",
    "import statistics\n",
    "from sklearn import preprocessing\n",
    "from sklearn.preprocessing import StandardScaler,MinMaxScaler\n",
    "from sklearn.model_selection import train_test_split\n",
    "from sklearn.linear_model import Lasso\n",
    "from sklearn.model_selection import GridSearchCV\n",
    "from sklearn.metrics import mean_absolute_error\n",
    "from sklearn.metrics import mean_squared_error\n",
    "from sklearn.metrics import r2_score\n",
    "from sklearn.preprocessing import normalize\n",
    "\n",
    "\n",
    "# Split datasets into train and test datasets\n",
    "%matplotlib inline\n",
    "\n",
    "df_main_onehot = pd.read_csv('df_main_onehot.csv')\n",
    "# df_merged_venue = pd.read_csv('df_merged_venue.csv')\n",
    "# df_merged_venue['storey_avg'] = df_merged_venue['storey_range'].apply(lambda x: int(x[-2:]))\n"
   ]
  },
  {
   "cell_type": "code",
   "execution_count": 95,
   "id": "tribal-belarus",
   "metadata": {},
   "outputs": [],
   "source": [
    "df_main_onehot = pd.read_csv('df_main_onehot.csv')\n",
    "df_main_onehot = df_main_onehot.drop(columns=['Unnamed: 0','flat_type', 'street_name',\n",
    "       'flat_model', 'planning_area','distance_to_nearest_primary_sch','distance_to_nearest_second_sch','distance_to_nearest_hawker'])"
   ]
  },
  {
   "cell_type": "code",
   "execution_count": 96,
   "id": "sharp-resource",
   "metadata": {},
   "outputs": [
    {
     "data": {
      "text/plain": [
       "Index(['floor_area_sqm', 'remaining_lease', 'price_sqm',\n",
       "       'distance_to_nearest_stations', 'distance_to_nearest_commercial',\n",
       "       'distance_to_nearest_malls', 'toilet_number', 'room_number',\n",
       "       'flat_type_1 room', 'flat_type_2 room', 'flat_type_3 room',\n",
       "       'flat_type_4 room', 'flat_type_5 room', 'flat_type_executive',\n",
       "       'flat_type_multi generation', 'flat_model_2 room',\n",
       "       'flat_model_adjoined flat', 'flat_model_apartment', 'flat_model_dbss',\n",
       "       'flat_model_improved', 'flat_model_improved maisonette',\n",
       "       'flat_model_maisonette', 'flat_model_model a',\n",
       "       'flat_model_model a maisonette', 'flat_model_model a2',\n",
       "       'flat_model_multi generation', 'flat_model_new generation',\n",
       "       'flat_model_premium apartment', 'flat_model_premium apartment loft',\n",
       "       'flat_model_premium maisonette', 'flat_model_simplified',\n",
       "       'flat_model_standard', 'flat_model_terrace', 'flat_model_type s1',\n",
       "       'flat_model_type s2', 'town_ang mo kio', 'town_bedok', 'town_bishan',\n",
       "       'town_bukit batok', 'town_bukit merah', 'town_bukit panjang',\n",
       "       'town_bukit timah', 'town_central area', 'town_choa chu kang',\n",
       "       'town_clementi', 'town_geylang', 'town_hougang', 'town_jurong east',\n",
       "       'town_jurong west', 'town_kallang/whampoa', 'town_marine parade',\n",
       "       'town_pasir ris', 'town_punggol', 'town_queenstown', 'town_sembawang',\n",
       "       'town_sengkang', 'town_serangoon', 'town_tampines', 'town_toa payoh',\n",
       "       'town_woodlands', 'town_yishun', 'storey_avg', 'storey < 10',\n",
       "       'storey < 15', 'storey < 20', 'storey < 30', 'story > 30', 'year'],\n",
       "      dtype='object')"
      ]
     },
     "execution_count": 96,
     "metadata": {},
     "output_type": "execute_result"
    }
   ],
   "source": [
    "df_main_onehot.columns"
   ]
  },
  {
   "cell_type": "markdown",
   "id": "regulation-canvas",
   "metadata": {},
   "source": [
    "### df_main_onehot + lasso "
   ]
  },
  {
   "cell_type": "code",
   "execution_count": null,
   "id": "geographic-tribune",
   "metadata": {},
   "outputs": [
    {
     "name": "stderr",
     "output_type": "stream",
     "text": [
      "/Users/cj/miniconda3/lib/python3.8/site-packages/sklearn/linear_model/_coordinate_descent.py:530: ConvergenceWarning: Objective did not converge. You might want to increase the number of iterations. Duality gap: 3284636719.0378113, tolerance: 33022952.127027918\n",
      "  model = cd_fast.enet_coordinate_descent(\n",
      "/Users/cj/miniconda3/lib/python3.8/site-packages/sklearn/linear_model/_coordinate_descent.py:530: ConvergenceWarning: Objective did not converge. You might want to increase the number of iterations. Duality gap: 3272732770.394394, tolerance: 32962727.989448633\n",
      "  model = cd_fast.enet_coordinate_descent(\n",
      "/Users/cj/miniconda3/lib/python3.8/site-packages/sklearn/linear_model/_coordinate_descent.py:530: ConvergenceWarning: Objective did not converge. You might want to increase the number of iterations. Duality gap: 3288651867.190468, tolerance: 33002043.041918166\n",
      "  model = cd_fast.enet_coordinate_descent(\n",
      "/Users/cj/miniconda3/lib/python3.8/site-packages/sklearn/linear_model/_coordinate_descent.py:530: ConvergenceWarning: Objective did not converge. You might want to increase the number of iterations. Duality gap: 3258405395.2276382, tolerance: 32948990.331916273\n",
      "  model = cd_fast.enet_coordinate_descent(\n",
      "/Users/cj/miniconda3/lib/python3.8/site-packages/sklearn/linear_model/_coordinate_descent.py:530: ConvergenceWarning: Objective did not converge. You might want to increase the number of iterations. Duality gap: 3265458316.1787567, tolerance: 32971615.736164138\n",
      "  model = cd_fast.enet_coordinate_descent(\n",
      "/Users/cj/miniconda3/lib/python3.8/site-packages/sklearn/linear_model/_coordinate_descent.py:530: ConvergenceWarning: Objective did not converge. You might want to increase the number of iterations. Duality gap: 3289015655.4337463, tolerance: 33022952.127027918\n",
      "  model = cd_fast.enet_coordinate_descent(\n",
      "/Users/cj/miniconda3/lib/python3.8/site-packages/sklearn/linear_model/_coordinate_descent.py:530: ConvergenceWarning: Objective did not converge. You might want to increase the number of iterations. Duality gap: 3277098639.189781, tolerance: 32962727.989448633\n",
      "  model = cd_fast.enet_coordinate_descent(\n",
      "/Users/cj/miniconda3/lib/python3.8/site-packages/sklearn/linear_model/_coordinate_descent.py:530: ConvergenceWarning: Objective did not converge. You might want to increase the number of iterations. Duality gap: 3293011031.746277, tolerance: 33002043.041918166\n",
      "  model = cd_fast.enet_coordinate_descent(\n",
      "/Users/cj/miniconda3/lib/python3.8/site-packages/sklearn/linear_model/_coordinate_descent.py:530: ConvergenceWarning: Objective did not converge. You might want to increase the number of iterations. Duality gap: 3262766614.13694, tolerance: 32948990.331916273\n",
      "  model = cd_fast.enet_coordinate_descent(\n",
      "/Users/cj/miniconda3/lib/python3.8/site-packages/sklearn/linear_model/_coordinate_descent.py:530: ConvergenceWarning: Objective did not converge. You might want to increase the number of iterations. Duality gap: 3269862192.47303, tolerance: 32971615.736164138\n",
      "  model = cd_fast.enet_coordinate_descent(\n",
      "/Users/cj/miniconda3/lib/python3.8/site-packages/sklearn/linear_model/_coordinate_descent.py:530: ConvergenceWarning: Objective did not converge. You might want to increase the number of iterations. Duality gap: 153051020.1663208, tolerance: 33022952.127027918\n",
      "  model = cd_fast.enet_coordinate_descent(\n",
      "/Users/cj/miniconda3/lib/python3.8/site-packages/sklearn/linear_model/_coordinate_descent.py:530: ConvergenceWarning: Objective did not converge. You might want to increase the number of iterations. Duality gap: 151151762.67897034, tolerance: 32962727.989448633\n",
      "  model = cd_fast.enet_coordinate_descent(\n",
      "/Users/cj/miniconda3/lib/python3.8/site-packages/sklearn/linear_model/_coordinate_descent.py:530: ConvergenceWarning: Objective did not converge. You might want to increase the number of iterations. Duality gap: 152436160.8407135, tolerance: 33002043.041918166\n",
      "  model = cd_fast.enet_coordinate_descent(\n",
      "/Users/cj/miniconda3/lib/python3.8/site-packages/sklearn/linear_model/_coordinate_descent.py:530: ConvergenceWarning: Objective did not converge. You might want to increase the number of iterations. Duality gap: 150619178.77633667, tolerance: 32948990.331916273\n",
      "  model = cd_fast.enet_coordinate_descent(\n",
      "/Users/cj/miniconda3/lib/python3.8/site-packages/sklearn/linear_model/_coordinate_descent.py:530: ConvergenceWarning: Objective did not converge. You might want to increase the number of iterations. Duality gap: 152008561.62416077, tolerance: 32971615.736164138\n",
      "  model = cd_fast.enet_coordinate_descent(\n"
     ]
    }
   ],
   "source": [
    "y = df_main_onehot['price_sqm']\n",
    "X = df_main_onehot.drop(columns = ['price_sqm'])\n",
    "\n",
    "X_train, X_test, y_train, y_test = train_test_split(X, y, test_size =0.25, random_state = 888)\n",
    "\n",
    "# scaler = MinMaxScaler().fit(X_train)\n",
    "scaler = StandardScaler().fit(X_train)\n",
    "X_trains = scaler.transform(X_train)\n",
    "X_tests = scaler.transform(X_test)\n",
    "\n",
    "lasso = Lasso()\n",
    "param = {'alpha':[0.001, 0.01, 0.1, 0.2, 0.5, 0.7, 1, 1.5]}\n",
    "\n",
    "lasso_cv = GridSearchCV(lasso,\n",
    "                       param,\n",
    "                       scoring = 'neg_mean_squared_error',\n",
    "                       cv = 5,\n",
    "                       verbose = 0)\n",
    "lasso_cv.fit(X_trains,y_train)\n",
    "\n",
    "best_alpha = pd.Series(lasso_cv.best_params_)[0]\n",
    "\n",
    "print(lasso_cv.best_score_)\n",
    "print(lasso_cv.best_params_)\n",
    "\n",
    "lasso = Lasso(best_alpha = 0.001, \n",
    "              random_state = 888)\n",
    "lasso = lasso.fit(X_trains, y_train)"
   ]
  },
  {
   "cell_type": "code",
   "execution_count": null,
   "id": "artistic-disposal",
   "metadata": {},
   "outputs": [],
   "source": [
    "lasso.coef_"
   ]
  },
  {
   "cell_type": "code",
   "execution_count": null,
   "id": "coastal-obligation",
   "metadata": {},
   "outputs": [],
   "source": [
    "yhat = lasso.predict(X_trains)\n",
    "MAE_lasso = round(mean_absolute_error(y_train, yhat),2)\n",
    "RMSE_lasso = round(math.sqrt(mean_squared_error(y_train, yhat)),2)\n",
    "R2_lasso = round(r2_score(y_train, yhat),2)\n",
    "\n",
    "\n",
    "print('-------------- Lasso Regression Model on training set------------')\n",
    "print('MAE: ' + str(mean_absolute_error(y_train, yhat)))\n",
    "print('RMSE: '+ str(math.sqrt(mean_squared_error(y_train, yhat))))\n",
    "print('R^2 Score: ' + str(r2_score(y_train, yhat)))"
   ]
  },
  {
   "cell_type": "code",
   "execution_count": null,
   "id": "committed-headset",
   "metadata": {},
   "outputs": [],
   "source": [
    "yhat = lasso.predict(X_tests)\n",
    "MAE_lasso = round(mean_absolute_error(y_test, yhat),2)\n",
    "RMSE_lasso = round(math.sqrt(mean_squared_error(y_test, yhat)),2)\n",
    "R2_lasso = round(r2_score(y_test, yhat),2)\n",
    "\n",
    "\n",
    "print('-------------- Lasso Regression Model ------------')\n",
    "print('MAE: ' + str(mean_absolute_error(y_test, yhat)))\n",
    "print('RMSE: '+ str(math.sqrt(mean_squared_error(y_test, yhat))))\n",
    "print('R^2 Score: ' + str(r2_score(y_test, yhat)))"
   ]
  },
  {
   "cell_type": "markdown",
   "id": "excessive-antique",
   "metadata": {},
   "source": [
    "### df_main_onehot + xgboost "
   ]
  },
  {
   "cell_type": "code",
   "execution_count": null,
   "id": "atlantic-toilet",
   "metadata": {},
   "outputs": [],
   "source": [
    "df_main_onehot['month'] = df_main_onehot['month'].apply(lambda x: int(x[-2:]))"
   ]
  },
  {
   "cell_type": "code",
   "execution_count": 88,
   "id": "grave-placement",
   "metadata": {},
   "outputs": [
    {
     "name": "stdout",
     "output_type": "stream",
     "text": [
      "[05:21:35] WARNING: /Users/cj/xgboost/python-package/build/temp.macosx-10.9-x86_64-3.8/xgboost/src/learner.cc:548: \n",
      "Parameters: { obj } might not be used.\n",
      "\n",
      "  This may not be accurate due to some parameters are only used in language bindings but\n",
      "  passed down to XGBoost core.  Or some parameters are not used but slip through this\n",
      "  verification. Please open an issue if you find above cases.\n",
      "\n",
      "\n",
      "[05:21:37] WARNING: /Users/cj/xgboost/python-package/build/temp.macosx-10.9-x86_64-3.8/xgboost/src/learner.cc:548: \n",
      "Parameters: { obj } might not be used.\n",
      "\n",
      "  This may not be accurate due to some parameters are only used in language bindings but\n",
      "  passed down to XGBoost core.  Or some parameters are not used but slip through this\n",
      "  verification. Please open an issue if you find above cases.\n",
      "\n",
      "\n",
      "[05:21:38] WARNING: /Users/cj/xgboost/python-package/build/temp.macosx-10.9-x86_64-3.8/xgboost/src/learner.cc:548: \n",
      "Parameters: { obj } might not be used.\n",
      "\n",
      "  This may not be accurate due to some parameters are only used in language bindings but\n",
      "  passed down to XGBoost core.  Or some parameters are not used but slip through this\n",
      "  verification. Please open an issue if you find above cases.\n",
      "\n",
      "\n",
      "[05:21:39] WARNING: /Users/cj/xgboost/python-package/build/temp.macosx-10.9-x86_64-3.8/xgboost/src/learner.cc:548: \n",
      "Parameters: { obj } might not be used.\n",
      "\n",
      "  This may not be accurate due to some parameters are only used in language bindings but\n",
      "  passed down to XGBoost core.  Or some parameters are not used but slip through this\n",
      "  verification. Please open an issue if you find above cases.\n",
      "\n",
      "\n",
      "[05:21:40] WARNING: /Users/cj/xgboost/python-package/build/temp.macosx-10.9-x86_64-3.8/xgboost/src/learner.cc:548: \n",
      "Parameters: { obj } might not be used.\n",
      "\n",
      "  This may not be accurate due to some parameters are only used in language bindings but\n",
      "  passed down to XGBoost core.  Or some parameters are not used but slip through this\n",
      "  verification. Please open an issue if you find above cases.\n",
      "\n",
      "\n",
      "[05:27:42] WARNING: /Users/cj/xgboost/python-package/build/temp.macosx-10.9-x86_64-3.8/xgboost/src/learner.cc:548: \n",
      "Parameters: { obj } might not be used.\n",
      "\n",
      "  This may not be accurate due to some parameters are only used in language bindings but\n",
      "  passed down to XGBoost core.  Or some parameters are not used but slip through this\n",
      "  verification. Please open an issue if you find above cases.\n",
      "\n",
      "\n",
      "-------------- XGB Model: Baseline Parameters ------------\n",
      "MAE: 710.1003323135434\n",
      "RMSE: 838.9855709353593\n",
      "R^2 Score: 0.44618190671093805\n"
     ]
    }
   ],
   "source": [
    "import xgboost as xgb\n",
    "from sklearn.model_selection import RandomizedSearchCV, RepeatedKFold\n",
    "\n",
    "# Convert datasets to XGBDMatrix\n",
    "dtrain = xgb.DMatrix(X_trains, label = y_train)\n",
    "dtest = xgb.DMatrix(X_tests)\n",
    "\n",
    "# Define model parameters\n",
    "xgb_params = {'obj':'reg:squarederror',\n",
    "              'eval_metric':'rmse',\n",
    "              'max_depth':6, \n",
    "              'eta':0.5,\n",
    "              'min_child_weight':1,\n",
    "              'subsample':1,\n",
    "              'colsample_bytree':1}\n",
    "\n",
    "# Find model parameters 'num_boost_round' using cv\n",
    "cv_res = xgb.cv(xgb_params, \n",
    "                dtrain, \n",
    "                num_boost_round=500, \n",
    "                nfold=5, \n",
    "                seed=2020, \n",
    "                stratified=False,\n",
    "                early_stopping_rounds=25, \n",
    "                verbose_eval=10, \n",
    "                show_stdv=True)\n",
    "\n",
    "# Get best num_boost_round\n",
    "nrounds = cv_res[cv_res['test-rmse-mean'] == cv_res['test-rmse-mean'].min()].index[0]\n",
    "cv_res[cv_res['test-rmse-mean'] == cv_res['test-rmse-mean'].min()]\n",
    "\n",
    "xgb_def = xgb.train(params = xgb_params,\n",
    "                   num_boost_round = nrounds,\n",
    "                   dtrain = dtrain)\n",
    "\n",
    "yhat = xgb_def.predict(dtest)\n",
    "print('-------------- XGB Model: Baseline Parameters ------------')\n",
    "print('MAE: ' + str(mean_absolute_error(y_test, yhat)))\n",
    "print('RMSE: '+ str(math.sqrt(mean_squared_error(y_test, yhat))))\n",
    "print('R^2 Score: ' + str(r2_score(y_test, yhat)))"
   ]
  },
  {
   "cell_type": "code",
   "execution_count": null,
   "id": "leading-favorite",
   "metadata": {},
   "outputs": [],
   "source": []
  }
 ],
 "metadata": {
  "kernelspec": {
   "display_name": "Python 3",
   "language": "python",
   "name": "python3"
  },
  "language_info": {
   "codemirror_mode": {
    "name": "ipython",
    "version": 3
   },
   "file_extension": ".py",
   "mimetype": "text/x-python",
   "name": "python",
   "nbconvert_exporter": "python",
   "pygments_lexer": "ipython3",
   "version": "3.8.5"
  }
 },
 "nbformat": 4,
 "nbformat_minor": 5
}
