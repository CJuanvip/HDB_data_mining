{
 "cells": [
  {
   "cell_type": "code",
   "execution_count": 1,
   "id": "shaped-heath",
   "metadata": {},
   "outputs": [
    {
     "data": {
      "text/plain": [
       "Index(['year', 'price_sqm', 'floor_area_sqm', 'distance_to_nearest_mrt',\n",
       "       'distance_to_downtown', 'storey_avg', 'toilet_number', 'room_number'],\n",
       "      dtype='object')"
      ]
     },
     "execution_count": 1,
     "metadata": {},
     "output_type": "execute_result"
    }
   ],
   "source": [
    "import numpy as np\n",
    "import matplotlib.pyplot as plt\n",
    "import seaborn as sns; sns.set()\n",
    "import numpy as np\n",
    "import pandas as pd\n",
    "import json\n",
    "import requests\n",
    "import re\n",
    "import os\n",
    "from datetime import datetime as dt\n",
    "from pandas.io.json import json_normalize\n",
    "import shapefile\n",
    "from sklearn import preprocessing\n",
    "%matplotlib inline\n",
    "from sklearn.preprocessing import MinMaxScaler\n",
    "import plotly.express as px\n",
    "from sklearn.decomposition import PCA\n",
    "\n",
    "df_main_categ = pd.read_csv('df_main_categ.csv')\n",
    "\n",
    "mms = MinMaxScaler()\n",
    "selected_cols = ['price_sqm', 'floor_area_sqm','year','distance_to_nearest_mrt','distance_to_downtown','storey_avg','toilet_number',\n",
    "       'room_number']\n",
    "\n",
    "selected_cols_without_year = ['price_sqm', 'floor_area_sqm','distance_to_nearest_mrt','distance_to_downtown','storey_avg','toilet_number',\n",
    "       'room_number']\n",
    "\n",
    "df_by_year = df_main_categ[selected_cols].groupby('year').mean()\n",
    "df_by_year[selected_cols_without_year] = mms.fit_transform(df_by_year[selected_cols_without_year])\n",
    "df_by_year = df_by_year.reset_index()\n",
    "df_by_year.columns\n"
   ]
  },
  {
   "cell_type": "code",
   "execution_count": 50,
   "id": "comic-charter",
   "metadata": {},
   "outputs": [
    {
     "data": {
      "text/plain": [
       "array([[0.87096774, 0.05734767, 0.1811652 , ..., 0.15714286, 0.        ,\n",
       "        0.18181818],\n",
       "       [0.87096774, 0.13978495, 0.19553073, ..., 0.1       , 0.        ,\n",
       "        0.        ],\n",
       "       [0.87096774, 0.13978495, 0.20510774, ..., 0.04285714, 0.        ,\n",
       "        0.04545455],\n",
       "       ...,\n",
       "       [0.29032258, 0.42293907, 0.37031125, ..., 0.04285714, 0.        ,\n",
       "        0.        ],\n",
       "       [0.29032258, 0.42293907, 0.3471668 , ..., 0.1       , 0.        ,\n",
       "        0.09090909],\n",
       "       [0.29032258, 0.41935484, 0.38228252, ..., 0.1       , 0.        ,\n",
       "        0.09090909]])"
      ]
     },
     "execution_count": 50,
     "metadata": {},
     "output_type": "execute_result"
    }
   ],
   "source": [
    "df_non_hot_categ = pd.read_csv('df_non_hot.csv')\n",
    "df_non_hot_categ = df_non_hot_categ[['year',\n",
    "       'floor_area_sqm', 'resale_price', \n",
    "       'remaining_lease', \n",
    "       'price_sqm', 'distance_to_downtown',\n",
    "       'distance_to_nearest_mrt', 'toilet_number', 'room_number', 'Bus',\n",
    "       'Entertainment', 'Food', 'School', 'Shop']]\n",
    "df_non_hot_categ = df_non_hot_categ.fillna(0)\n",
    "df_non_hot_categ = mms.fit_transform(df_non_hot_categ).astype('float64')\n",
    "df_non_hot_categ"
   ]
  },
  {
   "cell_type": "code",
   "execution_count": 43,
   "id": "verbal-cover",
   "metadata": {},
   "outputs": [
    {
     "name": "stdout",
     "output_type": "stream",
     "text": [
      "(839610, 14)\n",
      "(839610, 8)\n"
     ]
    }
   ],
   "source": [
    "pca = PCA(8)  # project from 14 to 8 dimensions\n",
    "# np_non_hot_categ = df_non_hot_categ.to_numpy()\n",
    "projected = pca.fit_transform(df_non_hot_categ)\n",
    "print(df_non_hot_categ.shape)\n",
    "print(projected.shape)"
   ]
  },
  {
   "cell_type": "code",
   "execution_count": 45,
   "id": "residential-serbia",
   "metadata": {},
   "outputs": [
    {
     "data": {
      "image/png": "[encoded data removed]",
      "text/plain": [
       "<Figure size 432x288 with 1 Axes>"
      ]
     },
     "metadata": {
      "needs_background": "light"
     },
     "output_type": "display_data"
    }
   ],
   "source": [
    "pca = PCA().fit(df_non_hot_categ)\n",
    "plt.plot(np.cumsum(pca.explained_variance_ratio_))\n",
    "plt.xlabel('number of components')\n",
    "plt.ylabel('cumulative explained variance');"
   ]
  },
  {
   "cell_type": "code",
   "execution_count": null,
   "id": "municipal-chess",
   "metadata": {},
   "outputs": [],
   "source": [
    "from sklearn.feature_selection import VarianceThreshold\n",
    "\n",
    "# var0_#### rank the variance of the variablefilter = VarianceThreshold(threshold=0.0)\n",
    "# var0_filter.fit(df_final, y= df_final['price_sqm'])\n",
    "\n",
    "# pd.DataFrame(df_final.columns[var0_filter.get_support()==False])\n",
    "df_non_hot_categ = pd.read_csv('df_non_hot.csv')\n",
    "df_non_hot_categ['storey_range_adj']=df_non_hot_categ['storey_range'].apply(lambda x: int(x[:2]))\n",
    "df_non_hot_categ = df_non_hot_categ[['year',\n",
    "       'floor_area_sqm', 'resale_price', \n",
    "       'remaining_lease', 'storey_range_adj',\n",
    "       'price_sqm', 'distance_to_downtown',\n",
    "       'distance_to_nearest_mrt', 'toilet_number', 'room_number', 'Bus',\n",
    "       'Entertainment', 'Food', 'School', 'Shop']]\n",
    "df_non_hot_categ = df_non_hot_categ.fillna(0)\n",
    "\n",
    "var5_filter = VarianceThreshold(threshold=0)\n",
    "var5_filter.fit(df_non_hot_categ, y= df_non_hot_categ['price_sqm'])\n",
    "\n",
    "pd.DataFrame(df_non_hot_categ.columns[var5_filter.get_support()])"
   ]
  },
  {
   "cell_type": "code",
   "execution_count": null,
   "id": "crucial-development",
   "metadata": {},
   "outputs": [],
   "source": [
    "import pandas as pd\n",
    "from sklearn.feature_selection import SelectKBest, f_classif\n",
    "#Suppose, we select 5 features with top 5 Fisher scores\n",
    "selector = SelectKBest(f_classif, k = 10)\n",
    "#New dataframe with the selected features for later use in the classifier. fit() method works too, if you want only the feature names and their corresponding scores\n",
    "X_new = selector.fit_transform(df_non_hot_categ, df_non_hot_categ['price_sqm'])\n",
    "names = df_non_hot_categ.columns.values[selector.get_support()]\n",
    "scores = selector.scores_[selector.get_support()]\n",
    "names_scores = list(zip(names, scores))\n",
    "ns_df = pd.DataFrame(data = names_scores, columns=['Feat_names', 'F_Scores'])\n",
    "#Sort the dataframe for better visualization\n",
    "ns_df_sorted = ns_df.sort_values(['F_Scores', 'Feat_names'], ascending = [False, True])\n",
    "print(ns_df_sorted)"
   ]
  },
  {
   "cell_type": "code",
   "execution_count": 90,
   "id": "monthly-bloom",
   "metadata": {},
   "outputs": [],
   "source": [
    "feature_cols = ['floor_area_sqm', \n",
    "       'remaining_lease', 'storey_range_adj','distance_to_downtown',\n",
    "       'distance_to_nearest_mrt', 'toilet_number', 'room_number', 'Bus',\n",
    "       'Entertainment', 'Food', 'School', 'Shop']\n",
    "# selector = SelectKBest(f_classif, k = 10)\n",
    "# X_new = selector.fit_transform(df_non_hot_categ[feature_cols],df_non_hot_categ['price_sqm'])\n",
    "\n",
    "# # Get back the kept features as a DataFrame with dropped columns as all 0s\n",
    "# selected_features = pd.DataFrame(select_k_best_classifier.inverse_transform(X_new),\n",
    "#                             index=df_non_hot_categ.index,\n",
    "#                             columns= feature_cols)\n",
    "# selected_columns = selected_features.columns[selected_features.var() !=0]\n",
    "\n",
    "selector = SelectKBest(f_classif, k=7)\n",
    "selector.fit(df_non_hot_categ[feature_cols], df_non_hot_categ['price_sqm'])\n",
    "# Get columns to keep and create new dataframe with those only\n",
    "cols = selector.get_support(indices=True)\n",
    "features_df_new = df_non_hot_categ[feature_cols].iloc[:,cols]\n"
   ]
  },
  {
   "cell_type": "code",
   "execution_count": 91,
   "id": "creative-expansion",
   "metadata": {},
   "outputs": [
    {
     "data": {
      "text/html": [
       "<div>\n",
       "<style scoped>\n",
       "    .dataframe tbody tr th:only-of-type {\n",
       "        vertical-align: middle;\n",
       "    }\n",
       "\n",
       "    .dataframe tbody tr th {\n",
       "        vertical-align: top;\n",
       "    }\n",
       "\n",
       "    .dataframe thead th {\n",
       "        text-align: right;\n",
       "    }\n",
       "</style>\n",
       "<table border=\"1\" class=\"dataframe\">\n",
       "  <thead>\n",
       "    <tr style=\"text-align: right;\">\n",
       "      <th></th>\n",
       "      <th>floor_area_sqm</th>\n",
       "      <th>remaining_lease</th>\n",
       "      <th>storey_range_adj</th>\n",
       "      <th>toilet_number</th>\n",
       "      <th>room_number</th>\n",
       "      <th>Entertainment</th>\n",
       "      <th>Food</th>\n",
       "    </tr>\n",
       "  </thead>\n",
       "  <tbody>\n",
       "    <tr>\n",
       "      <th>0</th>\n",
       "      <td>44.0</td>\n",
       "      <td>61</td>\n",
       "      <td>10</td>\n",
       "      <td>1</td>\n",
       "      <td>2</td>\n",
       "      <td>0.0</td>\n",
       "      <td>11.0</td>\n",
       "    </tr>\n",
       "    <tr>\n",
       "      <th>1</th>\n",
       "      <td>67.0</td>\n",
       "      <td>60</td>\n",
       "      <td>1</td>\n",
       "      <td>2</td>\n",
       "      <td>3</td>\n",
       "      <td>0.0</td>\n",
       "      <td>7.0</td>\n",
       "    </tr>\n",
       "    <tr>\n",
       "      <th>2</th>\n",
       "      <td>67.0</td>\n",
       "      <td>62</td>\n",
       "      <td>1</td>\n",
       "      <td>2</td>\n",
       "      <td>3</td>\n",
       "      <td>1.0</td>\n",
       "      <td>3.0</td>\n",
       "    </tr>\n",
       "    <tr>\n",
       "      <th>3</th>\n",
       "      <td>68.0</td>\n",
       "      <td>62</td>\n",
       "      <td>4</td>\n",
       "      <td>2</td>\n",
       "      <td>3</td>\n",
       "      <td>0.0</td>\n",
       "      <td>11.0</td>\n",
       "    </tr>\n",
       "    <tr>\n",
       "      <th>4</th>\n",
       "      <td>67.0</td>\n",
       "      <td>62</td>\n",
       "      <td>1</td>\n",
       "      <td>2</td>\n",
       "      <td>3</td>\n",
       "      <td>1.0</td>\n",
       "      <td>3.0</td>\n",
       "    </tr>\n",
       "    <tr>\n",
       "      <th>...</th>\n",
       "      <td>...</td>\n",
       "      <td>...</td>\n",
       "      <td>...</td>\n",
       "      <td>...</td>\n",
       "      <td>...</td>\n",
       "      <td>...</td>\n",
       "      <td>...</td>\n",
       "    </tr>\n",
       "    <tr>\n",
       "      <th>839605</th>\n",
       "      <td>142.0</td>\n",
       "      <td>69</td>\n",
       "      <td>10</td>\n",
       "      <td>2</td>\n",
       "      <td>3</td>\n",
       "      <td>1.0</td>\n",
       "      <td>9.0</td>\n",
       "    </tr>\n",
       "    <tr>\n",
       "      <th>839606</th>\n",
       "      <td>142.0</td>\n",
       "      <td>70</td>\n",
       "      <td>1</td>\n",
       "      <td>2</td>\n",
       "      <td>3</td>\n",
       "      <td>2.0</td>\n",
       "      <td>25.0</td>\n",
       "    </tr>\n",
       "    <tr>\n",
       "      <th>839607</th>\n",
       "      <td>146.0</td>\n",
       "      <td>70</td>\n",
       "      <td>7</td>\n",
       "      <td>2</td>\n",
       "      <td>3</td>\n",
       "      <td>1.0</td>\n",
       "      <td>3.0</td>\n",
       "    </tr>\n",
       "    <tr>\n",
       "      <th>839608</th>\n",
       "      <td>146.0</td>\n",
       "      <td>70</td>\n",
       "      <td>4</td>\n",
       "      <td>2</td>\n",
       "      <td>3</td>\n",
       "      <td>2.0</td>\n",
       "      <td>7.0</td>\n",
       "    </tr>\n",
       "    <tr>\n",
       "      <th>839609</th>\n",
       "      <td>145.0</td>\n",
       "      <td>70</td>\n",
       "      <td>1</td>\n",
       "      <td>2</td>\n",
       "      <td>3</td>\n",
       "      <td>2.0</td>\n",
       "      <td>7.0</td>\n",
       "    </tr>\n",
       "  </tbody>\n",
       "</table>\n",
       "<p>839610 rows × 7 columns</p>\n",
       "</div>"
      ],
      "text/plain": [
       "        floor_area_sqm  remaining_lease  storey_range_adj  toilet_number  \\\n",
       "0                 44.0               61                10              1   \n",
       "1                 67.0               60                 1              2   \n",
       "2                 67.0               62                 1              2   \n",
       "3                 68.0               62                 4              2   \n",
       "4                 67.0               62                 1              2   \n",
       "...                ...              ...               ...            ...   \n",
       "839605           142.0               69                10              2   \n",
       "839606           142.0               70                 1              2   \n",
       "839607           146.0               70                 7              2   \n",
       "839608           146.0               70                 4              2   \n",
       "839609           145.0               70                 1              2   \n",
       "\n",
       "        room_number  Entertainment  Food  \n",
       "0                 2            0.0  11.0  \n",
       "1                 3            0.0   7.0  \n",
       "2                 3            1.0   3.0  \n",
       "3                 3            0.0  11.0  \n",
       "4                 3            1.0   3.0  \n",
       "...             ...            ...   ...  \n",
       "839605            3            1.0   9.0  \n",
       "839606            3            2.0  25.0  \n",
       "839607            3            1.0   3.0  \n",
       "839608            3            2.0   7.0  \n",
       "839609            3            2.0   7.0  \n",
       "\n",
       "[839610 rows x 7 columns]"
      ]
     },
     "execution_count": 91,
     "metadata": {},
     "output_type": "execute_result"
    }
   ],
   "source": [
    "features_df_new"
   ]
  },
  {
   "cell_type": "code",
   "execution_count": null,
   "id": "quantitative-doubt",
   "metadata": {},
   "outputs": [],
   "source": []
  }
 ],
 "metadata": {
  "kernelspec": {
   "display_name": "Python 3",
   "language": "python",
   "name": "python3"
  },
  "language_info": {
   "codemirror_mode": {
    "name": "ipython",
    "version": 3
   },
   "file_extension": ".py",
   "mimetype": "text/x-python",
   "name": "python",
   "nbconvert_exporter": "python",
   "pygments_lexer": "ipython3",
   "version": "3.8.5"
  }
 },
 "nbformat": 4,
 "nbformat_minor": 5
}
